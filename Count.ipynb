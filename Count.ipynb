{
  "nbformat": 4,
  "nbformat_minor": 0,
  "metadata": {
    "colab": {
      "name": "Count.ipynb",
      "provenance": [],
      "authorship_tag": "ABX9TyONo0ggt+xLlJXsgtkHndK2",
      "include_colab_link": true
    },
    "kernelspec": {
      "name": "python3",
      "display_name": "Python 3"
    }
  },
  "cells": [
    {
      "cell_type": "markdown",
      "metadata": {
        "id": "view-in-github",
        "colab_type": "text"
      },
      "source": [
        "<a href=\"https://colab.research.google.com/github/hysakada/IA-FER/blob/master/Count.ipynb\" target=\"_parent\"><img src=\"https://colab.research.google.com/assets/colab-badge.svg\" alt=\"Open In Colab\"/></a>"
      ]
    },
    {
      "cell_type": "code",
      "metadata": {
        "id": "ucSkFQFk3Ul0",
        "outputId": "95010ada-1dc7-4687-ddf3-25e3119caa74",
        "colab": {
          "base_uri": "https://localhost:8080/",
          "height": 129
        }
      },
      "source": [
        "import random \n",
        "from datetime import datetime\n",
        "import time\n",
        "\n",
        "\n",
        "emotionsCount = [] \n",
        "emotions=(\"happy\" ,\"surprise\",\"angry\",\"fear\",\"sad\",\"disgust\",\"neutral\")\n",
        "timer_a = time.time()\n",
        "timer_b = time.time()\n",
        "maior=0 ; index=0\n",
        "ligado=True\n",
        "\n",
        "result=0\n",
        "if result > 1\n",
        "   print(\"teste\")\n",
        "\n",
        "\n",
        "while ligado:\n",
        "    result=random.randint(0,6)\n",
        "\n",
        "    if result == 0\n",
        "       emotionsCount[0]=emotionsCount[0]+1\n",
        "    if result == 1\n",
        "       emotionsCount[1]=emotionsCount[1]+1\n",
        "    if result==2\n",
        "       emotionsCount[2]=emotionsCount[2]+1\n",
        "    if result==3\n",
        "       emotionsCount[3]=emotionsCount[3]+1\n",
        "    if result==4\n",
        "       emotionsCount[4]=emotionsCount[4]+1\n",
        "    if result==5\n",
        "       emotionsCount[5]=emotionsCount[5]+1\n",
        "    if result==6\n",
        "       emotionsCount[6]=emotionsCount[6]+1\n",
        "\n",
        "    for ind in emotioncCount:\n",
        "        if emotionsCount[ind]>maior\n",
        "           maior=emotionsCount[ind]\n",
        "           index=ind \n",
        "\n",
        "    if time.time() - timer_a > 3:\n",
        "       ligado=False\n"
      ],
      "execution_count": 64,
      "outputs": [
        {
          "output_type": "error",
          "ename": "SyntaxError",
          "evalue": "ignored",
          "traceback": [
            "\u001b[0;36m  File \u001b[0;32m\"<ipython-input-64-ac535b5b3255>\"\u001b[0;36m, line \u001b[0;32m14\u001b[0m\n\u001b[0;31m    if result > 1\u001b[0m\n\u001b[0m                 ^\u001b[0m\n\u001b[0;31mSyntaxError\u001b[0m\u001b[0;31m:\u001b[0m invalid syntax\n"
          ]
        }
      ]
    }
  ]
}